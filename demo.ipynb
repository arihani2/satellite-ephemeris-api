{
 "cells": [
  {
   "cell_type": "code",
   "execution_count": 76,
   "id": "0ca29f45",
   "metadata": {},
   "outputs": [],
   "source": [
    "import requests"
   ]
  },
  {
   "cell_type": "code",
   "execution_count": 77,
   "id": "5704068e",
   "metadata": {},
   "outputs": [
    {
     "name": "stdout",
     "output_type": "stream",
     "text": [
      "<Response [200]>\n"
     ]
    }
   ],
   "source": [
    "#This is the api root endpoint\n",
    "BASE_URL = 'http://apexgroup.web.illinois.edu/ephemeris/'\n",
    "#This endpoint redirects user to the Center for the Protection of Dark and Quiet Sky homepage.\n",
    "#Should return status code 200\n",
    "print(requests.get(f'{BASE_URL}'))"
   ]
  },
  {
   "cell_type": "code",
   "execution_count": 78,
   "id": "0d29d3da",
   "metadata": {},
   "outputs": [
    {
     "name": "stdout",
     "output_type": "stream",
     "text": [
      "<Response [200]>\n"
     ]
    }
   ],
   "source": [
    "#This endpoint returns the RA and DEC given a satellites position and velocity.\n",
    "#Right ascension and declination are geocentric\n",
    "#input is x,y,z\n",
    "pos_vector = '-6632.665,-398.499,-1129.624'\n",
    "print(requests.get(f'{BASE_URL}pos/{pos_vector}').json())"
   ]
  },
  {
   "cell_type": "code",
   "execution_count": 79,
   "id": "94a739bf",
   "metadata": {},
   "outputs": [
    {
     "name": "stdout",
     "output_type": "stream",
     "text": [
      "{'Altitude': -51.33196333811316, 'Azimuth': 13.070589214546034, 'Declination': -2.0779367651608203, 'Right Ascension': 232.01562443083535}\n"
     ]
    }
   ],
   "source": [
    "#This endpoint returns the RA, DEC, Altitude, and Azimuth at the inputted JD relative to observers\n",
    "#latitude and longitude coordinates given a satellites TLE data\n",
    "tle = '1 25544U 98067A   23050.90915690  .00019097  00000+0  33852-3 0  9998 2 25544  51.6393 189.4175 0009582   7.6791  73.9158 15.50232555383604'\n",
    "latitude = 40.1164\n",
    "longitude = -88.2434\n",
    "jd = 2459994.50000\n",
    "flags = '&elevation=50000'\n",
    "print(requests.get(f'{BASE_URL}tle/{tle}/{latitude}/{longitude}/{jd}/{flags}').json())"
   ]
  },
  {
   "cell_type": "code",
   "execution_count": null,
   "id": "1c38162e",
   "metadata": {},
   "outputs": [],
   "source": []
  }
 ],
 "metadata": {
  "kernelspec": {
   "display_name": "Python 3.8.8 ('base')",
   "language": "python",
   "name": "python3"
  },
  "language_info": {
   "codemirror_mode": {
    "name": "ipython",
    "version": 3
   },
   "file_extension": ".py",
   "mimetype": "text/x-python",
   "name": "python",
   "nbconvert_exporter": "python",
   "pygments_lexer": "ipython3",
   "version": "3.8.8"
  },
  "vscode": {
   "interpreter": {
    "hash": "ad2bdc8ecc057115af97d19610ffacc2b4e99fae6737bb82f5d7fb13d2f2c186"
   }
  }
 },
 "nbformat": 4,
 "nbformat_minor": 5
}
