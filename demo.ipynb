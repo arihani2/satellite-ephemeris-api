{
 "cells": [
  {
   "cell_type": "code",
   "execution_count": 3,
   "metadata": {},
   "outputs": [],
   "source": [
    "import requests"
   ]
  },
  {
   "cell_type": "code",
   "execution_count": 13,
   "id": "5704068e",
   "metadata": {},
   "outputs": [
    {
     "name": "stdout",
     "output_type": "stream",
     "text": [
      "<Response [200]>\n"
     ]
    }
   ],
   "source": [
    "#This is the api root endpoint\n",
    "BASE_URL = 'http://apexgroup.web.illinois.edu/ephemeris/'\n",
    "#This endpoint redirects user to the Center for the Protection of Dark and Quiet Sky homepage.\n",
    "#Should return status code 200\n",
    "print(requests.get(f'{BASE_URL}'))"
   ]
  },
  {
   "cell_type": "code",
   "execution_count": 34,
   "id": "0d29d3da",
   "metadata": {},
   "outputs": [
    {
     "name": "stdout",
     "output_type": "stream",
     "text": [
      "{'Declination': 15.64522249008617, 'Right Ascension': 90.0}\n"
     ]
    }
   ],
   "source": [
    "#This endpoint returns the RA and DEC given a satellites position and velocity.\n",
    "#Right ascension and declination are geocentric\n",
    "#input is x,y,z,dx/dt, dy/dt, dz/dt\n",
    "pos_vector = '0.000000,1.11111111,2.2222222,3.3333333,4.44444444,5.555555555'\n",
    "print(requests.get(f'{BASE_URL}pos/{pos_vector}').json())"
   ]
  },
  {
   "cell_type": "code",
   "execution_count": 2,
   "id": "94a739bf",
   "metadata": {},
   "outputs": [
    {
     "name": "stdout",
     "output_type": "stream",
     "text": [
      "1 25544U 98067A   23009.59424588  .00013181  00000+0  23801-3 0  9999\n"
     ]
    },
    {
     "ename": "NameError",
     "evalue": "name 'requests' is not defined",
     "output_type": "error",
     "traceback": [
      "\u001b[1;31m---------------------------------------------------------------------------\u001b[0m",
      "\u001b[1;31mNameError\u001b[0m                                 Traceback (most recent call last)",
      "\u001b[1;32m<ipython-input-2-b9588606f176>\u001b[0m in \u001b[0;36m<module>\u001b[1;34m\u001b[0m\n\u001b[0;32m      7\u001b[0m \u001b[0mlongitude\u001b[0m \u001b[1;33m=\u001b[0m \u001b[1;33m-\u001b[0m\u001b[1;36m88.2434\u001b[0m\u001b[1;33m\u001b[0m\u001b[1;33m\u001b[0m\u001b[0m\n\u001b[0;32m      8\u001b[0m \u001b[0mjd\u001b[0m \u001b[1;33m=\u001b[0m \u001b[1;36m2459956.000000\u001b[0m\u001b[1;33m\u001b[0m\u001b[1;33m\u001b[0m\u001b[0m\n\u001b[1;32m----> 9\u001b[1;33m \u001b[0mprint\u001b[0m\u001b[1;33m(\u001b[0m\u001b[0mrequests\u001b[0m\u001b[1;33m.\u001b[0m\u001b[0mget\u001b[0m\u001b[1;33m(\u001b[0m\u001b[1;34mf'{BASE_URL}tle/{tle}/{latitude}/{longitude}/{jd}'\u001b[0m\u001b[1;33m)\u001b[0m\u001b[1;33m.\u001b[0m\u001b[0mjson\u001b[0m\u001b[1;33m(\u001b[0m\u001b[1;33m)\u001b[0m\u001b[1;33m)\u001b[0m\u001b[1;33m\u001b[0m\u001b[1;33m\u001b[0m\u001b[0m\n\u001b[0m",
      "\u001b[1;31mNameError\u001b[0m: name 'requests' is not defined"
     ]
    }
   ],
   "source": [
    "#This endpoint returns the RA and DEC at epoch relative to observers\n",
    "#latitude and longitude coordinates given a satellites TLE data\n",
    "# tle = '1 25544U 98067A   23007.53232108  .00015198  00000-0  27356-3 0  9996 2 25544  51.6468  44.3340 0006408 228.0033 283.9302 15.50006558376879'\n",
    "tle = '1 25544U 98067A   23009.59424588  .00013181  00000+0  23801-3 0  9999 2 25544  51.6456  34.1063 0004881 241.6264 263.6377 15.50056477377193'\n",
    "latitude = 40.1164\n",
    "longitude = -88.2434\n",
    "jd = 2459956.000000\n",
    "print(requests.get(f'{BASE_URL}tle/{tle}/{latitude}/{longitude}/{jd}').json())"
   ]
  },
  {
   "cell_type": "code",
   "execution_count": null,
   "id": "1af6dde5",
   "metadata": {},
   "outputs": [],
   "source": []
  }
 ],
 "metadata": {
  "kernelspec": {
   "display_name": "Python 3.8.8 ('base')",
   "language": "python",
   "name": "python3"
  },
  "language_info": {
   "codemirror_mode": {
    "name": "ipython",
    "version": 3
   },
   "file_extension": ".py",
   "mimetype": "text/x-python",
   "name": "python",
   "nbconvert_exporter": "python",
   "pygments_lexer": "ipython3",
   "version": "3.8.8"
  },
  "vscode": {
   "interpreter": {
    "hash": "ad2bdc8ecc057115af97d19610ffacc2b4e99fae6737bb82f5d7fb13d2f2c186"
   }
  }
 },
 "nbformat": 4,
 "nbformat_minor": 5
}
