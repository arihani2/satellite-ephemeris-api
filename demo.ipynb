{
 "cells": [
  {
   "cell_type": "code",
   "execution_count": 17,
   "metadata": {},
   "outputs": [],
   "source": [
    "import requests"
   ]
  },
  {
   "cell_type": "code",
   "execution_count": 21,
   "id": "5704068e",
   "metadata": {},
   "outputs": [
    {
     "name": "stdout",
     "output_type": "stream",
     "text": [
      "<Response [200]>\n"
     ]
    }
   ],
   "source": [
    "#This is the api root endpoint\n",
    "BASE_URL = 'http://apexgroup.web.illinois.edu/ephemeris/'\n",
    "#This endpoint redirects user to the Center for the Protection of Dark and Quiet Sky homepage.\n",
    "#Should return status code 200\n",
    "print(requests.get(f'{BASE_URL}'))"
   ]
  },
  {
   "cell_type": "code",
   "execution_count": 22,
   "id": "0d29d3da",
   "metadata": {},
   "outputs": [
    {
     "name": "stdout",
     "output_type": "stream",
     "text": [
      "{'Declination': -9.648361143292117, 'Right Ascension': 183.438270609867}\n"
     ]
    }
   ],
   "source": [
    "#This endpoint returns the RA and DEC given a satellites position and velocity.\n",
    "#Right ascension and declination are geocentric\n",
    "#input is x,y,z,dx/dt, dy/dt, dz/dt\n",
    "pos_vector = '-6632.665/-398.499/-1129.624'\n",
    "print(requests.get(f'{BASE_URL}pos/{pos_vector}').json())"
   ]
  },
  {
   "cell_type": "code",
   "execution_count": 12,
   "id": "94a739bf",
   "metadata": {},
   "outputs": [
    {
     "name": "stdout",
     "output_type": "stream",
     "text": [
      "{'Declination': -24.729499999999998, 'Right Ascension': 18.727041666666665}\n"
     ]
    }
   ],
   "source": [
    "#This endpoint returns the RA and DEC at epoch relative to observers\n",
    "#latitude and longitude coordinates given a satellites TLE data\n",
    "# tle = '1 25544U 98067A   23007.53232108  .00015198  00000-0  27356-3 0  9996 2 25544  51.6468  44.3340 0006408 228.0033 283.9302 15.50006558376879'\n",
    "tle = '1 25544U 98067A   23009.59424588  .00013181  00000+0  23801-3 0  9999 2 25544  51.6456  34.1063 0004881 241.6264 263.6377 15.50056477377193'\n",
    "latitude = 40.1164\n",
    "longitude = -88.2434\n",
    "jd = 2459956.000000\n",
    "print(requests.get(f'{BASE_URL}tle/{tle}/{latitude}/{longitude}/{jd}').json())"
   ]
  },
  {
   "cell_type": "code",
   "execution_count": null,
   "id": "1c38162e",
   "metadata": {},
   "outputs": [],
   "source": []
  }
 ],
 "metadata": {
  "kernelspec": {
   "display_name": "Python 3.8.8 ('base')",
   "language": "python",
   "name": "python3"
  },
  "language_info": {
   "codemirror_mode": {
    "name": "ipython",
    "version": 3
   },
   "file_extension": ".py",
   "mimetype": "text/x-python",
   "name": "python",
   "nbconvert_exporter": "python",
   "pygments_lexer": "ipython3",
   "version": "3.8.8"
  },
  "vscode": {
   "interpreter": {
    "hash": "ad2bdc8ecc057115af97d19610ffacc2b4e99fae6737bb82f5d7fb13d2f2c186"
   }
  }
 },
 "nbformat": 4,
 "nbformat_minor": 5
}
