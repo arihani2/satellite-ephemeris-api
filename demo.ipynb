{
 "cells": [
  {
   "cell_type": "code",
   "execution_count": 9,
   "metadata": {},
   "outputs": [],
   "source": [
    "import requests"
   ]
  },
  {
   "cell_type": "code",
   "execution_count": 10,
   "id": "5704068e",
   "metadata": {},
   "outputs": [
    {
     "name": "stdout",
     "output_type": "stream",
     "text": [
      "<Response [200]>\n"
     ]
    }
   ],
   "source": [
    "#This is the api root endpoint\n",
    "BASE_URL = 'http://apexgroup.web.illinois.edu/ephemeris/'\n",
    "#This endpoint redirects user to the Center for the Protection of Dark and Quiet Sky homepage.\n",
    "#Should return status code 200\n",
    "print(requests.get(f'{BASE_URL}'))"
   ]
  },
  {
   "cell_type": "code",
   "execution_count": 11,
   "id": "0d29d3da",
   "metadata": {},
   "outputs": [
    {
     "name": "stdout",
     "output_type": "stream",
     "text": [
      "{'Declination': 15.64522249008617, 'Right Ascension': 90.0}\n"
     ]
    }
   ],
   "source": [
    "#This endpoint returns the RA and DEC given a satellites position and velocity.\n",
    "#Right ascension and declination are geocentric\n",
    "#input is x,y,z,dx/dt, dy/dt, dz/dt\n",
    "pos_vector = '0.000000,1.11111111,2.2222222,3.3333333,4.44444444,5.555555555'\n",
    "print(requests.get(f'{BASE_URL}pos/{pos_vector}').json())"
   ]
  },
  {
   "cell_type": "code",
   "execution_count": 12,
   "id": "94a739bf",
   "metadata": {},
   "outputs": [
    {
     "name": "stdout",
     "output_type": "stream",
     "text": [
      "{'Declination': '-10deg 26\\' 55.5\"', 'Right Ascension': '145deg 45\\' 12.1\"'}\n"
     ]
    }
   ],
   "source": [
    "#This endpoint returns the RA and DEC at epoch relative to observers\n",
    "#latitude and longitude coordinates given a satellites TLE data\n",
    "tle = '1 25544U 98067A   22362.06034722  .00010166  00000-0  18812-3 0  9996 2 25544  51.6442  96.1851 0005503 196.4251 169.1729 15.49648922375252'\n",
    "latitude = 41.63031\n",
    "longitude = -87.85394\n",
    "print(requests.get(f'{BASE_URL}tle/{tle}/{latitude}/{longitude}').json())"
   ]
  }
 ],
 "metadata": {
  "kernelspec": {
   "display_name": "Python 3.8.8 ('base')",
   "language": "python",
   "name": "python3"
  },
  "language_info": {
   "codemirror_mode": {
    "name": "ipython",
    "version": 3
   },
   "file_extension": ".py",
   "mimetype": "text/x-python",
   "name": "python",
   "nbconvert_exporter": "python",
   "pygments_lexer": "ipython3",
   "version": "3.8.8"
  },
  "vscode": {
   "interpreter": {
    "hash": "ad2bdc8ecc057115af97d19610ffacc2b4e99fae6737bb82f5d7fb13d2f2c186"
   }
  }
 },
 "nbformat": 4,
 "nbformat_minor": 5
}
